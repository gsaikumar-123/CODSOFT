{
 "cells": [
  {
   "cell_type": "code",
   "execution_count": 2,
   "id": "f42bf68a",
   "metadata": {},
   "outputs": [
    {
     "name": "stdout",
     "output_type": "stream",
     "text": [
      "Training Accuracy: 0.79625\n",
      "Testing Accuracy: 0.7965\n",
      "Confusion_Matrix : \n",
      " [[1593    0]\n",
      " [ 407    0]]\n",
      "\n",
      "Classification_Report\n",
      "               precision    recall  f1-score   support\n",
      "\n",
      "           0       0.80      1.00      0.89      1593\n",
      "           1       1.00      0.00      0.00       407\n",
      "\n",
      "    accuracy                           0.80      2000\n",
      "   macro avg       0.90      0.50      0.44      2000\n",
      "weighted avg       0.84      0.80      0.71      2000\n",
      "\n"
     ]
    }
   ],
   "source": [
    "from pandas import *\n",
    "from numpy import *\n",
    "from sklearn.model_selection import train_test_split\n",
    "from sklearn.linear_model import LogisticRegression\n",
    "from sklearn.metrics import accuracy_score,confusion_matrix,classification_report\n",
    "\n",
    "data = read_csv('Churn_Modelling.csv')\n",
    "\n",
    "data.loc[data['Gender']=='Male','Gender'] = 0\n",
    "data.loc[data['Gender']=='Female','Gender'] = 1\n",
    "\n",
    "\n",
    "x = data.drop(columns=['RowNumber', 'Surname', 'Geography', 'Exited'], axis=1)\n",
    "y = data['Exited']\n",
    "\n",
    "x_train,x_test,y_train,y_test = train_test_split(x,y,test_size = 0.2,stratify = y,random_state = 2)\n",
    "\n",
    "model = LogisticRegression()\n",
    "model.fit(x_train,y_train)\n",
    "\n",
    "y_train_pred = model.predict(x_train)\n",
    "y_test_pred = model.predict(x_test)\n",
    "\n",
    "train_accuracy = accuracy_score(y_train, y_train_pred)\n",
    "test_accuracy = accuracy_score(y_test, y_test_pred)\n",
    "conf_matrix = confusion_matrix(y_test,y_test_pred)\n",
    "report = classification_report(y_test,y_test_pred,zero_division=1)\n",
    "\n",
    "print(\"Training Accuracy:\", train_accuracy)\n",
    "print(\"Testing Accuracy:\", test_accuracy)\n",
    "print(\"Confusion_Matrix : \\n\",conf_matrix)\n",
    "print(\"\\nClassification_Report\\n\",report)"
   ]
  },
  {
   "cell_type": "code",
   "execution_count": null,
   "id": "71ea6fd8",
   "metadata": {},
   "outputs": [],
   "source": []
  }
 ],
 "metadata": {
  "kernelspec": {
   "display_name": "Python 3 (ipykernel)",
   "language": "python",
   "name": "python3"
  },
  "language_info": {
   "codemirror_mode": {
    "name": "ipython",
    "version": 3
   },
   "file_extension": ".py",
   "mimetype": "text/x-python",
   "name": "python",
   "nbconvert_exporter": "python",
   "pygments_lexer": "ipython3",
   "version": "3.11.5"
  }
 },
 "nbformat": 4,
 "nbformat_minor": 5
}
