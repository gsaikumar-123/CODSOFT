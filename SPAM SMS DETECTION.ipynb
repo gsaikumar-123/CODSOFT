{
 "cells": [
  {
   "cell_type": "code",
   "execution_count": 1,
   "id": "7097e284",
   "metadata": {},
   "outputs": [
    {
     "name": "stdout",
     "output_type": "stream",
     "text": [
      "0.9661207089970832\n",
      "0.9623318385650225\n"
     ]
    }
   ],
   "source": [
    "from pandas import *\n",
    "from numpy import *\n",
    "from sklearn.model_selection import train_test_split\n",
    "from sklearn.feature_extraction.text import TfidfVectorizer\n",
    "from sklearn.linear_model import LogisticRegression\n",
    "from sklearn.metrics import accuracy_score\n",
    "\n",
    "data = read_csv('spam.csv',encoding = 'latin1')\n",
    "\n",
    "data.loc[data['v1']=='spam','v1'] = 0\n",
    "data.loc[data['v1']=='ham' ,'v1'] = 1\n",
    "\n",
    "x = data['v2']\n",
    "y = data['v1']\n",
    "\n",
    "x_train,x_test,y_train,y_test = train_test_split(x,y,test_size=0.2,random_state=3)\n",
    "\n",
    "feature_extraction = TfidfVectorizer(min_df=1,stop_words='english',lowercase=True)\n",
    "\n",
    "x_train_features = feature_extraction.fit_transform(x_train)\n",
    "x_test_features  = feature_extraction.transform(x_test)\n",
    "y_train = y_train.astype('int')\n",
    "y_test = y_test.astype('int')\n",
    "\n",
    "model = LogisticRegression()\n",
    "\n",
    "model.fit(x_train_features,y_train)\n",
    "\n",
    "prediction_on_training_data = model.predict(x_train_features)\n",
    "accuracy_on_training_data = accuracy_score(y_train,prediction_on_training_data)\n",
    "\n",
    "print(accuracy_on_training_data)\n",
    "\n",
    "prediction_on_testing_data = model.predict(x_test_features)\n",
    "accuracy_on_testing_data = accuracy_score(y_test,prediction_on_testing_data)\n",
    "\n",
    "print(accuracy_on_testing_data)"
   ]
  }
 ],
 "metadata": {
  "kernelspec": {
   "display_name": "Python 3 (ipykernel)",
   "language": "python",
   "name": "python3"
  },
  "language_info": {
   "codemirror_mode": {
    "name": "ipython",
    "version": 3
   },
   "file_extension": ".py",
   "mimetype": "text/x-python",
   "name": "python",
   "nbconvert_exporter": "python",
   "pygments_lexer": "ipython3",
   "version": "3.11.5"
  }
 },
 "nbformat": 4,
 "nbformat_minor": 5
}
