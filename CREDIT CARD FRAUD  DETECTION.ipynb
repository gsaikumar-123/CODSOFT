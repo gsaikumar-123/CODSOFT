{
 "cells": [
  {
   "cell_type": "code",
   "execution_count": 3,
   "id": "029144ca",
   "metadata": {},
   "outputs": [
    {
     "name": "stdout",
     "output_type": "stream",
     "text": [
      "Training Accuracy: 0.9936537682919776\n",
      "Testing Accuracy: 0.9954941256282401\n",
      "Confusion_Matrix : \n",
      " [[553215    359]\n",
      " [  2145      0]]\n",
      "\n",
      "Classification_Report\n",
      "               precision    recall  f1-score   support\n",
      "\n",
      "           0       1.00      1.00      1.00    553574\n",
      "           1       0.00      0.00      0.00      2145\n",
      "\n",
      "    accuracy                           1.00    555719\n",
      "   macro avg       0.50      0.50      0.50    555719\n",
      "weighted avg       0.99      1.00      0.99    555719\n",
      "\n"
     ]
    }
   ],
   "source": [
    "import pandas as pd\n",
    "from sklearn.linear_model import LogisticRegression\n",
    "from sklearn.preprocessing import StandardScaler\n",
    "from sklearn.pipeline import Pipeline\n",
    "from sklearn.metrics import accuracy_score,confusion_matrix,classification_report\n",
    "from sklearn.compose import ColumnTransformer\n",
    "\n",
    "train_data = pd.read_csv('fraudTrain.csv')\n",
    "test_data = pd.read_csv('fraudTest.csv')\n",
    "\n",
    "x_train = train_data[['amt','lat','long','merch_lat','merch_long']]\n",
    "y_train = train_data['is_fraud']\n",
    "\n",
    "x_test = test_data[['amt','lat','long','merch_lat','merch_long']]\n",
    "y_test = test_data['is_fraud']\n",
    "\n",
    "numeric_features = ['amt','lat','long','merch_lat','merch_long']\n",
    "numeric_transformer = StandardScaler()\n",
    "\n",
    "preprocessor = ColumnTransformer(transformers=[('num', numeric_transformer, numeric_features)])\n",
    "\n",
    "model = Pipeline(steps=[('preprocessor', preprocessor),('classifier', LogisticRegression())])\n",
    "\n",
    "model.fit(x_train, y_train)\n",
    "\n",
    "y_train_pred = model.predict(x_train)\n",
    "y_test_pred = model.predict(x_test)\n",
    "\n",
    "train_accuracy = accuracy_score(y_train, y_train_pred)\n",
    "test_accuracy = accuracy_score(y_test, y_test_pred)\n",
    "conf_matrix = confusion_matrix(y_test,y_test_pred)\n",
    "report = classification_report(y_test,y_test_pred)\n",
    "\n",
    "print(\"Training Accuracy:\", train_accuracy)\n",
    "print(\"Testing Accuracy:\", test_accuracy)\n",
    "print(\"Confusion_Matrix : \\n\",conf_matrix)\n",
    "print(\"\\nClassification_Report\\n\",report)"
   ]
  }
 ],
 "metadata": {
  "kernelspec": {
   "display_name": "Python 3 (ipykernel)",
   "language": "python",
   "name": "python3"
  },
  "language_info": {
   "codemirror_mode": {
    "name": "ipython",
    "version": 3
   },
   "file_extension": ".py",
   "mimetype": "text/x-python",
   "name": "python",
   "nbconvert_exporter": "python",
   "pygments_lexer": "ipython3",
   "version": "3.11.5"
  }
 },
 "nbformat": 4,
 "nbformat_minor": 5
}
